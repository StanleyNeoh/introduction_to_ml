{
 "cells": [
  {
   "attachments": {},
   "cell_type": "markdown",
   "metadata": {},
   "source": [
    "# Torch Datasets"
   ]
  },
  {
   "cell_type": "code",
   "execution_count": 1,
   "metadata": {},
   "outputs": [],
   "source": [
    "# Importing relevant packages\n",
    "import numpy as np\n",
    "import matplotlib.pyplot as plt\n",
    "import torch"
   ]
  },
  {
   "cell_type": "code",
   "execution_count": 2,
   "metadata": {},
   "outputs": [
    {
     "name": "stdout",
     "output_type": "stream",
     "text": [
      "Length of training set:  60000\n",
      "Type of training set:  <class 'torchvision.datasets.mnist.MNIST'>\n",
      "Type of element:  <class 'tuple'>\n",
      "Type of element[0], element[1]:  <class 'PIL.Image.Image'> <class 'int'>\n",
      "=> MNIST is subscriptable as MNIST.__getitem__(index: int) -> Tuple[PIL.Image.Image, int]\n"
     ]
    },
    {
     "data": {
      "image/png": "[encoded data removed]",
      "text/plain": [
       "<PIL.Image.Image image mode=L size=28x28>"
      ]
     },
     "metadata": {},
     "output_type": "display_data"
    },
    {
     "name": "stdout",
     "output_type": "stream",
     "text": [
      "5\n"
     ]
    }
   ],
   "source": [
    "from PIL import Image\n",
    "from torchvision import datasets, transforms\n",
    "\n",
    "mnist_train = datasets.MNIST(root='data', train=True, download=True)\n",
    "print(\"Length of training set: \", len(mnist_train))\n",
    "print(\"Type of training set: \", type(mnist_train))\n",
    "print(\"Type of element: \", type(mnist_train[0]))\n",
    "print(\"Type of element[0], element[1]: \", type(mnist_train[0][0]), type(mnist_train[0][1]))\n",
    "print(\"=> MNIST is subscriptable as MNIST.__getitem__(index: int) -> Tuple[PIL.Image.Image, int]\")\n",
    "\n",
    "# As a PIL image\n",
    "mnist_train[0][0].show()\n",
    "print(mnist_train[0][1])"
   ]
  },
  {
   "cell_type": "code",
   "execution_count": 3,
   "metadata": {},
   "outputs": [
    {
     "name": "stdout",
     "output_type": "stream",
     "text": [
      "Length of training set:  60000\n",
      "Type of training set:  <class 'torchvision.datasets.mnist.MNIST'>\n",
      "Type of element:  <class 'tuple'>\n",
      "Type of element[0], element[1]:  <class 'torch.Tensor'> <class 'int'>\n",
      "torch.Size([1, 28, 28])\n",
      "Default image shape: torch.Size([1, 28, 28])\n",
      "Reshaped image shape: torch.Size([28, 28])\n"
     ]
    },
    {
     "data": {
      "text/plain": [
       "<matplotlib.image.AxesImage at 0x7efeafca8910>"
      ]
     },
     "execution_count": 3,
     "metadata": {},
     "output_type": "execute_result"
    },
    {
     "data": {
      "image/png": "[encoded data removed]",
      "text/plain": [
       "<Figure size 640x480 with 1 Axes>"
      ]
     },
     "metadata": {},
     "output_type": "display_data"
    }
   ],
   "source": [
    "# Hence it is necessary to convert it to a tensor. This can be done by transforming it while loading as follows\n",
    "mnist_train = datasets.MNIST(root='data', train=True, download=True, transform=transforms.ToTensor())\n",
    "mnist_test = datasets.MNIST(root='data', train=False, download=True, transform=transforms.ToTensor())\n",
    "\n",
    "print(\"Length of training set: \", len(mnist_train))\n",
    "print(\"Type of training set: \", type(mnist_train))\n",
    "print(\"Type of element: \", type(mnist_train[0]))\n",
    "print(\"Type of element[0], element[1]: \", type(mnist_train[0][0]), type(mnist_train[0][1]))\n",
    "print(mnist_train[0][0].shape)\n",
    "\n",
    "# Lets make it back into a PIL image and display\n",
    "print(\"Default image shape:\", mnist_train[0][0].shape)\n",
    "image = mnist_train[0][0].reshape(28, 28)\n",
    "print(\"Reshaped image shape:\", image.shape)\n",
    "plt.imshow(image)"
   ]
  },
  {
   "attachments": {},
   "cell_type": "markdown",
   "metadata": {},
   "source": [
    "# Torch DataLoaders\n",
    "The Dataset retrieves our dataset’s features and labels one sample at a time. While training a model, we typically want to pass samples in “minibatches”, reshuffle the data at every epoch to reduce model overfitting, and use Python’s multiprocessing to speed up data retrieval."
   ]
  },
  {
   "cell_type": "code",
   "execution_count": 4,
   "metadata": {},
   "outputs": [
    {
     "name": "stdout",
     "output_type": "stream",
     "text": [
      "Length of training set:  60000\n",
      "Length of train_loader:  600\n",
      "Type of train_loader:  <class 'torch.utils.data.dataloader.DataLoader'>\n",
      "Type of element:  <class 'torch.utils.data.dataloader.DataLoader'>\n",
      "Type of the minibatch of images: <class 'torch.Tensor'> => Shape: torch.Size([100, 1, 28, 28])\n",
      "Type of the minibatch of labels: <class 'torch.Tensor'> => Shape: torch.Size([100])\n"
     ]
    }
   ],
   "source": [
    "train_loader = torch.utils.data.DataLoader(mnist_train, batch_size=100, shuffle=True) #Not subscriptable\n",
    "\n",
    "print(\"Length of training set: \", len(mnist_train))\n",
    "print(\"Length of train_loader: \", len(train_loader))\n",
    "print(\"Type of train_loader: \", type(train_loader))\n",
    "print(\"Type of element: \", type(train_loader))\n",
    "\n",
    "# Lets see what the first element of the train_loader looks like\n",
    "\n",
    "train_iter = iter(train_loader)\n",
    "images, labels = train_iter.__next__()\n",
    "print(\"Type of the minibatch of images: {} => Shape: {}\".format(type(images), images.shape))\n",
    "print(\"Type of the minibatch of labels: {} => Shape: {}\".format(type(labels), labels.shape))"
   ]
  },
  {
   "attachments": {},
   "cell_type": "markdown",
   "metadata": {},
   "source": [
    "# Logistic Model"
   ]
  },
  {
   "cell_type": "code",
   "execution_count": 5,
   "metadata": {},
   "outputs": [
    {
     "name": "stdout",
     "output_type": "stream",
     "text": [
      "Shape of x:  torch.Size([100, 784])\n",
      "Value of y[0]:  tensor([ 0.2319,  0.5280,  0.1843,  0.0442,  0.6704, -0.0227, -0.5230, -0.1828,\n",
      "         0.4210,  0.3666], grad_fn=<SelectBackward0>)\n",
      "Shape of y:  torch.Size([100, 10])\n",
      "Shape of z:  torch.Size([100, 10])\n",
      "Value of z[0]:  tensor([ 0.2319,  0.5280,  0.1843,  0.0442,  0.6704, -0.0227, -0.5230, -0.1828,\n",
      "         0.4210,  0.3666], grad_fn=<SelectBackward0>)\n"
     ]
    }
   ],
   "source": [
    "W = torch.randn(784, 10)/np.sqrt(784) # Xavier initialization\n",
    "W.requires_grad_()\n",
    "b = torch.zeros(10, requires_grad=True)\n",
    "\n",
    "\n",
    "def linear(x: torch.Tensor):\n",
    "    return x@W + b\n",
    "\n",
    "x = images.view(-1, 28*28) # Equivalent to x = images.reshape(-1, 28*28)\n",
    "print(\"Shape of x: \", x.shape)\n",
    "y = linear(x)\n",
    "print(\"Value of y[0]: \", y[0])\n",
    "print(\"Shape of y: \", y.shape)\n",
    "\n",
    "def softmax1(y: torch.Tensor):\n",
    "    return torch.exp(y) / torch.sum(torch.exp(y), dim=1, keepdim=True)\n",
    "\n",
    "import torch.nn.functional as F\n",
    "def softmax2(y: torch.Tensor):\n",
    "    return F.softmax(y, dim=1)\n",
    "\n",
    "z = softmax2(y)\n",
    "print(\"Shape of z: \", z.shape)\n",
    "print(\"Value of z[0]: \", y[0])\n"
   ]
  },
  {
   "attachments": {},
   "cell_type": "markdown",
   "metadata": {},
   "source": [
    "# Defining Loss\n",
    "\n",
    "## Cross Entropy Loss\n",
    "\n",
    "Refer to [Cross Entropy](https://en.wikipedia.org/wiki/Cross_entropy) in Shannon's Information Theory.\n",
    "* [StatQuest](https://youtu.be/6ArSys5qHAU) has a good explanation for this\n",
    "* Say we have a model that predicts whether a blue, yellow or red ball is being selected.\n",
    "* Lets calculate amount of information the model gives us about the ball.\n",
    "  * Suppose a blue ball is selected.\n",
    "    * The model says the probability the selected ball is blue is $q_b$\n",
    "    * Hence, the amount of information the model gives us about the ball is $-log(q_b)$ which corresponds to how surprised a person would be if they found out the ball was blue.\n",
    "      * If $q_b$ is high, then the person would not be surprised at all. This means the model has done a good job at predicting the ball is blue.\n",
    "      * If $q_b$ is low, then the person would be very surprised. This means the model has done a bad job at predicting the ball is blue.\n",
    "      * We should be surprise if reality is not what we expect.\n",
    "  * Generalising, considering the actual probability that blue, yellow or red ball is selected is $p_b, p_y, p_r$ respectively, the amount of information the model gives us about the ball is $-p_b log(q_b) - p_y log(q_y) - p_r log(q_r) = -\\sum p_i log(q_i)$\n",
    "  * This shows that cross-entropy can be thought of as how surprised you would be if you found out the model's prediction was wrong.\n",
    "\n",
    "Explaining exactly what the cross-entropy represents goes slightly beyond the scope of this course, but you can think of it as a way of quantifying how far apart one distribution $y'$ is from another $y$.\n",
    "\n",
    "\\begin{align}\n",
    "H_{y'}(y)=-\\sum_i y'_i \\text{log}(y_i)\n",
    "\\end{align}\n",
    "\n",
    "In our case,  𝑦\n",
    "  is the set of probabilities predicted by the model ( 𝑝𝑦\n",
    "  above);  𝑦′\n",
    "  is the target distribution. What is the target distribution? It's the true label, which is what we wanted the model to predict.\n",
    "\n",
    "Cross-entropy not only captures how correct (max probability corresponds to the right answer) the model's answers are, it also accounts for how confident (high confidence in correct answers) they are. This encourages the model to produce very high probabilities for correct answers while driving down the probabilities for the wrong answers, instead of merely being satisfied with it being the argmax."
   ]
  },
  {
   "cell_type": "code",
   "execution_count": 6,
   "metadata": {},
   "outputs": [
    {
     "name": "stdout",
     "output_type": "stream",
     "text": [
      "Shape of z:  torch.Size([100, 10])\n",
      "Shape of z_filtered:  torch.Size([100])\n",
      "Value of z_filtered:  tensor([0.0834, 0.0911, 0.0635, 0.1230, 0.2095, 0.1453, 0.0941, 0.0909, 0.0964,\n",
      "        0.0939, 0.0931, 0.0603, 0.0981, 0.1056, 0.0661, 0.0934, 0.1286, 0.0944,\n",
      "        0.1648, 0.0937, 0.0463, 0.1206, 0.1229, 0.1251, 0.0524, 0.1194, 0.0894,\n",
      "        0.1973, 0.1938, 0.0657, 0.1197, 0.0865, 0.1691, 0.0905, 0.1055, 0.1127,\n",
      "        0.0964, 0.0971, 0.1210, 0.0860, 0.1028, 0.0752, 0.1022, 0.1374, 0.0894,\n",
      "        0.1579, 0.0738, 0.0845, 0.0765, 0.1517, 0.1399, 0.1237, 0.0963, 0.1635,\n",
      "        0.0811, 0.1117, 0.0714, 0.0762, 0.1375, 0.0904, 0.1057, 0.1072, 0.0874,\n",
      "        0.1486, 0.1029, 0.0957, 0.0743, 0.0799, 0.0969, 0.1159, 0.1134, 0.1204,\n",
      "        0.1384, 0.1135, 0.1436, 0.1126, 0.0999, 0.1325, 0.0625, 0.1333, 0.1679,\n",
      "        0.0826, 0.1291, 0.0989, 0.1189, 0.0878, 0.0864, 0.1272, 0.0579, 0.1281,\n",
      "        0.0595, 0.0916, 0.1121, 0.1041, 0.1182, 0.0788, 0.1864, 0.0769, 0.1394,\n",
      "        0.1638], grad_fn=<IndexBackward0>)\n"
     ]
    }
   ],
   "source": [
    "def cross_entropy1(labels: torch.Tensor, y: torch.Tensor):\n",
    "    return torch.mean(-torch.log(y[range(z.shape[0]), labels])) # Selecting only the appropriate columns for each rows based on labels\n",
    "\n",
    "print(\"Shape of z: \", z.shape)\n",
    "z_filtered = z[range(z.shape[0]), labels]\n",
    "print(\"Shape of z_filtered: \", z_filtered.shape)\n",
    "print(\"Value of z_filtered: \", z_filtered)\n",
    "\n",
    "def cross_entropy2(labels: torch.Tensor, y: torch.Tensor):\n",
    "    return F.cross_entropy(y, labels)"
   ]
  },
  {
   "cell_type": "code",
   "execution_count": 7,
   "metadata": {},
   "outputs": [
    {
     "name": "stdout",
     "output_type": "stream",
     "text": [
      "tensor([[ 0,  1,  2,  3],\n",
      "        [ 4,  5,  6,  7],\n",
      "        [ 8,  9, 10, 11],\n",
      "        [12, 13, 14, 15]])\n",
      "With Slice: tensor([[ 1,  2],\n",
      "        [ 5,  6],\n",
      "        [ 9, 10],\n",
      "        [13, 14]])\n",
      "With Ellipsis: tensor([[ 1,  2],\n",
      "        [ 5,  6],\n",
      "        [ 9, 10],\n",
      "        [13, 14]])\n",
      "With Range: tensor([ 0,  5, 10, 15])\n",
      "With Array: tensor([ 1, 11])\n"
     ]
    }
   ],
   "source": [
    "# Lessons on range(n) as index \n",
    "\n",
    "## Why range(z.shape[0])?\n",
    "a = torch.arange(0, 16, 1).view(4,4)\n",
    "print(a)\n",
    "\n",
    "# Slices and ellipsis keeps whole rows, only selects certain columns\n",
    "print(\"With Slice:\", a[:, [1, 2]])\n",
    "print(\"With Ellipsis:\", a[..., [1, 2]])\n",
    "\n",
    "# Range row by row (array needs to be same length as rows)\n",
    "# There is some coupling between riows and columns\n",
    "print(\"With Range:\", a[range(a.shape[0]), [0, 1, 2, 3]])\n",
    "\n",
    "# Array selects certain rows and certain columns\n",
    "print(\"With Array:\", a[[0, 2], [1, 3]])"
   ]
  },
  {
   "attachments": {},
   "cell_type": "markdown",
   "metadata": {},
   "source": [
    "# Backward pass and optimizers"
   ]
  },
  {
   "cell_type": "code",
   "execution_count": 8,
   "metadata": {},
   "outputs": [
    {
     "name": "stdout",
     "output_type": "stream",
     "text": [
      "RuntimeError: element 0 of tensors does not require grad and does not have a grad_fn\n",
      "Type of optimizer: <class 'torch.optim.sgd.SGD'>\n",
      "Type of optimizer.param_groups: <class 'list'>\n",
      "Current gradient: None\n",
      "optimizer.zero_grad() wipes gradient: None\n",
      "Shape of images torch.Size([100, 1, 28, 28])\n",
      "Shape of x:  torch.Size([100, 784])\n",
      "z[0]: tensor([0.1006, 0.1353, 0.0960, 0.0834, 0.1560, 0.0780, 0.0473, 0.0665, 0.1216,\n",
      "        0.1152], grad_fn=<SelectBackward0>)\n",
      "loss: tensor(2.2946, grad_fn=<NllLossBackward0>)\n"
     ]
    },
    {
     "name": "stderr",
     "output_type": "stream",
     "text": [
      "/tmp/ipykernel_1850/937945389.py:6: UserWarning: Implicit dimension choice for softmax has been deprecated. Change the call to include dim=X as an argument.\n",
      "  closs = cross_entropy2(test_labels, F.softmax(test_input@test_weights))\n"
     ]
    },
    {
     "name": "stdout",
     "output_type": "stream",
     "text": [
      "New gradients: tensor([ 0.0012, -0.0042, -0.0018,  0.0034, -0.0029,  0.0037, -0.0029,  0.0009,\n",
      "         0.0038, -0.0012])\n"
     ]
    }
   ],
   "source": [
    "# What if no gradient is required?\n",
    "try:\n",
    "    test_input = torch.tensor([1.,1.,1.,1.]).view(1, 4)\n",
    "    test_weights = torch.tensor([1.,2.,3.,4.], requires_grad=False).view(4, 1)\n",
    "    test_labels = torch.tensor([0.5]).view(1,1)\n",
    "    closs = cross_entropy2(test_labels, F.softmax(test_input@test_weights))\n",
    "    closs.backward()\n",
    "except RuntimeError as e:\n",
    "    print(\"RuntimeError:\", e)\n",
    "\n",
    "\n",
    "# In 1 iteration\n",
    "optimizer = torch.optim.SGD([W, b], lr=0.1)\n",
    "print(\"Type of optimizer:\", type(optimizer))\n",
    "# print(\"Value of optimizer:\", optimizer)\n",
    "print(\"Type of optimizer.param_groups:\", type(optimizer.param_groups))\n",
    "# print(\"Value of optimizer.param_groups:\", optimizer.param_groups)\n",
    "\n",
    "print(\"Current gradient:\", b.grad)\n",
    "optimizer.zero_grad() # Zero out the gradient of the parameters. Parameters have gradients attached to it.\n",
    "print(\"optimizer.zero_grad() wipes gradient:\", b.grad)\n",
    "\n",
    "print(\"Shape of images\", images.shape)\n",
    "x = images.view(-1, 28*28)\n",
    "print(\"Shape of x: \", x.shape)\n",
    "\n",
    "y = linear(x)\n",
    "z = softmax2(y)\n",
    "print(\"z[0]:\", z[0])\n",
    "\n",
    "loss = cross_entropy2(labels, z) # labels is a tensor of shape (100, )\n",
    "print(\"loss:\", loss)\n",
    "\n",
    "loss.backward() # Compute the gradient of the loss for each parameter. Load these gradients into the .grad attribute of each parameter\n",
    "print(\"New gradients:\", b.grad)\n",
    "\n",
    "optimizer.step() # Update the parameters using the gradients in the .grad attribute"
   ]
  },
  {
   "cell_type": "code",
   "execution_count": 9,
   "metadata": {},
   "outputs": [
    {
     "name": "stderr",
     "output_type": "stream",
     "text": [
      "100%|██████████| 600/600 [00:06<00:00, 99.39it/s] \n"
     ]
    }
   ],
   "source": [
    "from tqdm import tqdm # Make your loops show a smart progress meter - just wrap any iterable with tqdm(iterable), and you’re done!\n",
    "\n",
    "for images, labels in tqdm(train_loader):\n",
    "    optimizer.zero_grad() # Reset the gradients\n",
    "    x = images.view(-1, 28*28)\n",
    "    y = linear(x)\n",
    "    z = softmax2(y)\n",
    "    loss = cross_entropy2(labels, z)\n",
    "    loss.backward()\n",
    "    optimizer.step()"
   ]
  },
  {
   "attachments": {},
   "cell_type": "markdown",
   "metadata": {},
   "source": [
    "# Testing the model"
   ]
  },
  {
   "cell_type": "code",
   "execution_count": 10,
   "metadata": {},
   "outputs": [
    {
     "name": "stderr",
     "output_type": "stream",
     "text": [
      "100%|██████████| 100/100 [00:00<00:00, 104.02it/s]"
     ]
    },
    {
     "name": "stdout",
     "output_type": "stream",
     "text": [
      "Test accuracy: tensor(0.8384)\n"
     ]
    },
    {
     "name": "stderr",
     "output_type": "stream",
     "text": [
      "\n"
     ]
    }
   ],
   "source": [
    "corect = 0\n",
    "total = len(mnist_test)\n",
    "\n",
    "test_loader = torch.utils.data.DataLoader(mnist_test, batch_size=100, shuffle=False)\n",
    "\n",
    "with torch.no_grad(): # Prevents any gradient calculations\n",
    "    for images, labels in tqdm(test_loader):\n",
    "        x = images.view(-1, 28*28)\n",
    "        y = linear(x)\n",
    "        z = softmax2(y)\n",
    "        predictions = torch.argmax(z, dim=1)\n",
    "        corect += torch.sum((predictions == labels).float())\n",
    "\n",
    "print('Test accuracy:', corect/total)"
   ]
  },
  {
   "cell_type": "code",
   "execution_count": 11,
   "metadata": {},
   "outputs": [
    {
     "data": {
      "image/png": "[encoded data removed]",
      "text/plain": [
       "<Figure size 2000x200 with 10 Axes>"
      ]
     },
     "metadata": {},
     "output_type": "display_data"
    }
   ],
   "source": [
    "# Lets see the weights\n",
    "\n",
    "fig, ax = plt.subplots(1, 10, figsize=(20, 2))\n",
    "for digit in range(10):\n",
    "    ax[digit].imshow(W[:, digit].detach().view(28, 28), cmap='gray')"
   ]
  },
  {
   "attachments": {},
   "cell_type": "markdown",
   "metadata": {},
   "source": [
    "# OOP Refactor"
   ]
  },
  {
   "cell_type": "code",
   "execution_count": 15,
   "metadata": {},
   "outputs": [
    {
     "name": "stdout",
     "output_type": "stream",
     "text": [
      "Model: MNIST_Logistic_Regression(\n",
      "  (lin): Linear(in_features=784, out_features=10, bias=True)\n",
      ")\n",
      "Parameters: [Parameter containing:\n",
      "tensor([[ 0.0035, -0.0302,  0.0026,  ...,  0.0022, -0.0200,  0.0294],\n",
      "        [ 0.0220,  0.0013, -0.0357,  ...,  0.0100,  0.0270,  0.0292],\n",
      "        [-0.0066, -0.0065, -0.0002,  ...,  0.0325, -0.0004,  0.0339],\n",
      "        ...,\n",
      "        [-0.0194, -0.0067,  0.0033,  ..., -0.0346,  0.0109,  0.0041],\n",
      "        [ 0.0320, -0.0225,  0.0231,  ...,  0.0091, -0.0268, -0.0228],\n",
      "        [-0.0297, -0.0295, -0.0316,  ...,  0.0178,  0.0271,  0.0213]],\n",
      "       requires_grad=True), Parameter containing:\n",
      "tensor([ 0.0245, -0.0193,  0.0339, -0.0154, -0.0252,  0.0325,  0.0293,  0.0071,\n",
      "         0.0279,  0.0306], requires_grad=True)]\n",
      "Output shape: torch.Size([100, 10])\n"
     ]
    },
    {
     "name": "stderr",
     "output_type": "stream",
     "text": [
      "100%|██████████| 600/600 [00:06<00:00, 93.32it/s] \n",
      "100%|██████████| 100/100 [00:01<00:00, 99.54it/s]"
     ]
    },
    {
     "name": "stdout",
     "output_type": "stream",
     "text": [
      "Test accuracy: 0.902400016784668\n"
     ]
    },
    {
     "name": "stderr",
     "output_type": "stream",
     "text": [
      "\n"
     ]
    }
   ],
   "source": [
    "from torch import nn\n",
    "\n",
    "class MNIST_Logistic_Regression(nn.Module):\n",
    "    def __init__(self):\n",
    "        super().__init__()\n",
    "        self.lin = nn.Linear(784, 10)\n",
    "    \n",
    "    def forward(self, x):\n",
    "        return self.lin(x)\n",
    "    \n",
    "model = MNIST_Logistic_Regression()\n",
    "y = model(x)\n",
    "print(\"Model:\", model)\n",
    "print(\"Parameters:\", list(model.parameters()))\n",
    "print(\"Output shape:\", y.shape)\n",
    "\n",
    "criterion = nn.CrossEntropyLoss() # Same as criterion = F.cross_entropy\n",
    "optimizer = torch.optim.SGD(model.parameters(), lr=0.1)\n",
    "\n",
    "for images, labels in tqdm(train_loader):\n",
    "    optimizer.zero_grad()\n",
    "    x = images.view(-1, 28*28)\n",
    "    y = model(x)\n",
    "    loss = criterion(y, labels)\n",
    "    loss.backward()\n",
    "    optimizer.step()\n",
    "\n",
    "correct = 0\n",
    "total = len(mnist_test)\n",
    "\n",
    "with torch.no_grad():\n",
    "    # Iterate through test set minibatchs \n",
    "    for images, labels in tqdm(test_loader):\n",
    "        # Forward pass\n",
    "        x = images.view(-1, 28*28)\n",
    "        y = model(x)\n",
    "        \n",
    "        predictions = torch.argmax(y, dim=1)\n",
    "        correct += torch.sum((predictions == labels).float())\n",
    "    \n",
    "print('Test accuracy: {}'.format(correct/total))\n",
    "\n",
    "\n"
   ]
  },
  {
   "attachments": {},
   "cell_type": "markdown",
   "metadata": {},
   "source": [
    "### Tutorials:\n",
    "* [Pytorch Tensors](https://pytorch.org/tutorials/beginner/basics/tensorqs_tutorial.html)\n",
    "* [Pytorch Datasets](https://pytorch.org/tutorials/beginner/basics/data_tutorial.html)\n",
    "\n",
    "### References:\n",
    "* [Documentation for `datasets.MNIST()` function](https://pytorch.org/vision/main/generated/torchvision.datasets.MNIST.html#torchvision.datasets.MNIST)\n",
    "* [Documentation for `transform.toTensor()` function](https://pytorch.org/vision/main/generated/torchvision.transforms.ToTensor.html)\n",
    "* [Documentation for `plt.imshow()` function](https://matplotlib.org/stable/api/_as_gen/matplotlib.pyplot.imshow.html)\n",
    "* [Documentation for `Tensor.view(*shape)` function](https://pytorch.org/docs/stable/generated/torch.Tensor.view.html)\n",
    "* [Documentation for `F.softmax()` function](https://pytorch.org/docs/stable/generated/torch.nn.functional.softmax.html)\n",
    "* [Documentation for `torch.Optim` package](https://pytorch.org/docs/stable/optim.html)\n",
    "* [Documentation for `torch.no_grad()` function](https://pytorch.org/docs/stable/generated/torch.no_grad.html)\n",
    "\n"
   ]
  },
  {
   "attachments": {},
   "cell_type": "markdown",
   "metadata": {},
   "source": []
  }
 ],
 "metadata": {
  "kernelspec": {
   "display_name": "venv",
   "language": "python",
   "name": "python3"
  },
  "language_info": {
   "codemirror_mode": {
    "name": "ipython",
    "version": 3
   },
   "file_extension": ".py",
   "mimetype": "text/x-python",
   "name": "python",
   "nbconvert_exporter": "python",
   "pygments_lexer": "ipython3",
   "version": "3.11.3"
  },
  "orig_nbformat": 4
 },
 "nbformat": 4,
 "nbformat_minor": 2
}
